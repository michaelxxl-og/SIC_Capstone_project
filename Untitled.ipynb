{
 "cells": [
  {
   "cell_type": "markdown",
   "id": "5f83d75c-4b4a-4d8e-9d9d-3375f28cf5bd",
   "metadata": {},
   "source": [
    "## Class hierarchy"
   ]
  },
  {
   "cell_type": "markdown",
   "id": "2e96efc1-1767-4211-95c3-24900037d87e",
   "metadata": {},
   "source": [
    "### Agent"
   ]
  },
  {
   "cell_type": "code",
   "execution_count": 50,
   "id": "a4aa6f16-459f-41a4-93a5-96f9b0db871a",
   "metadata": {},
   "outputs": [],
   "source": [
    "class Agent:\n",
    "    \"\"\"Clase base para todos los agentes en el sistema.\"\"\"\n",
    "    def __init__(self, name):\n",
    "        self.name = name\n",
    "\n",
    "    def describe(self):\n",
    "        return f\"{self.name}\""
   ]
  },
  {
   "cell_type": "markdown",
   "id": "e5d59a4d-4e93-4427-a9ae-fa6ecbca1f22",
   "metadata": {},
   "source": [
    "### Clients"
   ]
  },
  {
   "cell_type": "code",
   "execution_count": 48,
   "id": "9bca4b1c-a10d-4fe0-8446-47cd924976e2",
   "metadata": {},
   "outputs": [],
   "source": [
    "class Client(Agent):\n",
    "    \"\"\"Clase que representa a un cliente que interactúa con el ayuntamiento.\"\"\"\n",
    "    def __init__(self, name):\n",
    "        super().__init__(name)\n",
    "        self.in_theater = False  # Estado de entrada en el teatro"
   ]
  },
  {
   "cell_type": "code",
   "execution_count": 46,
   "id": "f8a3eee6-88fd-4252-bad9-3833b12e10a0",
   "metadata": {},
   "outputs": [],
   "source": [
    "class Theater(Agent):\n",
    "    def __init__(self, name):\n",
    "        super().__init__(name)\n",
    "        self.theaters = [] # almacenamiento de teatros\n",
    "\n",
    "    def add_theater(self, theater_name):\n",
    "        self.theaters.append(theater_name)\n",
    "        print(f'Service {theater_name} added to {self.name}.')\n",
    "\n",
    "    def remove_theater(self, theater_name):\n",
    "        if theater_name in self.theater_name:\n",
    "            self.theaters.remove(theater_name)\n",
    "            print(f'Theater {theater_name} removed from {self.name}.')\n",
    "        else:\n",
    "            print(f'Theater {theater_name} not found in {self.name}.')\n",
    "\n",
    "    def show_theaters(self):\n",
    "        if self.name == True:\n",
    "            for theater in self.theaters:\n",
    "                print(f' - {self.name}') \n"
   ]
  },
  {
   "cell_type": "code",
   "execution_count": null,
   "id": "95863411-0a9f-458f-9d6a-58e43e1b2779",
   "metadata": {},
   "outputs": [],
   "source": []
  },
  {
   "cell_type": "code",
   "execution_count": 44,
   "id": "d8e2b494-ef6e-406d-bced-6337f7f1ae16",
   "metadata": {},
   "outputs": [],
   "source": [
    "class CitySimulation:\n",
    "    \n",
    "    def add_agent(self, agent_type, agent_name):\n",
    "        if agent_type == 'client':\n",
    "            agents[agent_name] = Client(agent_name)\n",
    "        elif agent_type == 'theater':\n",
    "            agents[agent_name] = Theater(agent_name)\n",
    "        print(f'{agent_type.capitalize()} {agent_name} added to the system.')\n",
    "\n",
    "    def remove_agent(self, agent_name):\n",
    "        if agent_name in agents:\n",
    "            del agents[agent_name]\n",
    "            print(f'Agent {agent_name} removed from the system.')\n",
    "        else:\n",
    "            print(f'Agent {agent_name} not found.')\n",
    "\n",
    "    def list_agents(self):\n",
    "        \"\"\"Muestra todos los agentes en el sistema.\"\"\"\n",
    "        print(\"Current agents:\")\n",
    "        for agent in agents.values():\n",
    "            print(agent.describe())\n",
    "\n",
    "    def general_help(self):\n",
    "        \"\"\"Muestra la lista de comandos disponibles.\"\"\"\n",
    "        print(\"\"\"\n",
    "            Available commands:\n",
    "            - theater add <theater_name>: Agregar un nuevo teatro al sistema.\n",
    "            - client add <client_name>: Agregar un cliente al sistema.\n",
    "            - theater add_show <theater_name> <show_name>: Agregar un nuevo espectáculo al teatro.\n",
    "            - client make_reservation <client_name> <theater_name> <show_name>: Reservar una entrada.\n",
    "            - client cancel_reservation <client_name> <theater_name> <show_name>: Cancelar una reserva.\n",
    "            - theater show_schedule <theater_name>: Mostrar los espectáculos en el teatro.\n",
    "            - client buy_ticket <client_name> <theater_name> <show_name>: Comprar un ticket.\n",
    "            - client enter <client_name> <theater_name>: Cliente entra al teatro.\n",
    "            - client leave <client_name> <theater_name>: Cliente sale del teatro.\n",
    "            - theater show_clients <theater_name>: Mostrar lista de clientes en el teatro.\n",
    "            - client request_refund <client_name> <theater_name> <show_name>: Solicitar reembolso.\n",
    "            - theater remove_show <theater_name> <show_name>: Eliminar un espectáculo.\n",
    "            - client check_wait_time <client_name> <theater_name>: Consultar tiempo de espera.\n",
    "            - theater show_all_clients: Mostrar lista de todos los clientes.\n",
    "            - client go_to_show <client_name> <theater_name> <show_name>: Cliente asiste a un espectáculo.\n",
    "            - client leave_show <client_name> <theater_name> <show_name>: Cliente sale de un espectáculo.\n",
    "            - theater show_current_shows <theater_name>: Mostrar los espectáculos actuales en el teatro.\n",
    "            - theater show_info <theater_name> <show_name>: Mostrar info de un espectáculo.\n",
    "            - client check_ticket_status <client_name> <theater_name> <show_name>: Consultar estado de un ticket.\n",
    "            - client show_all_clients: Mostrar la lista de todos los clientes.\n",
    "            - q: Exit the simulation.\n",
    "        \"\"\")\n",
    "\n",
    "    def client_help(self):\n",
    "        pass\n",
    "        print(\"\"\"\n",
    "            Available commands:\n",
    "            - client add <client_name>: Agregar un cliente al sistema. \n",
    "            - client make_reservation <client_name> <theater_name> <show_name>: Reservar una entrada.\n",
    "            - client cancel_reservation <client_name> <theater_name> <show_name>: Cancelar una reserva.\n",
    "            - client buy_ticket <client_name> <theater_name> <show_name>: Comprar un ticket.\n",
    "            - client enter <client_name> <theater_name>: Cliente entra al teatro.\n",
    "            - client leave <client_name> <theater_name>: Cliente sale del teatro.  \n",
    "            - client request_refund <client_name> <theater_name> <show_name>: Solicitar reembolso. \n",
    "            - client check_wait_time <client_name> <theater_name>: Consultar tiempo de espera.  \n",
    "            - client go_to_show <client_name> <theater_name> <show_name>: Cliente asiste a un espectáculo.\n",
    "            - client leave_show <client_name> <theater_name> <show_name>: Cliente sale de un espectáculo.\n",
    "            - client check_ticket_status <client_name> <theater_name> <show_name>: Consultar estado de un ticket.\n",
    "            - client show_all_clients: Mostrar la lista de todos los clientes.\n",
    "            - q: Exit the simulation.\n",
    "        \"\"\")\n",
    "\n",
    "    def theater_help(self):\n",
    "        pass\n",
    "        print(\"\"\"\n",
    "            Available commands:\n",
    "            - theater add <theater_name>: Agregar un nuevo teatro al sistema.\n",
    "            - theater add_show <theater_name> <show_name>: Agregar un nuevo espectáculo al teatro.  \n",
    "            - theater show_schedule <theater_name>: Mostrar los espectáculos en el teatro.\n",
    "            - theater show_clients <theater_name>: Mostrar lista de clientes en el teatro.        \n",
    "            - theater remove_show <theater_name> <show_name>: Eliminar un espectáculo.          \n",
    "            - theater show_all_clients: Mostrar lista de todos los clientes.           \n",
    "            - theater show_current_shows <theater_name>: Mostrar los espectáculos actuales en el teatro.\n",
    "            - theater show_info <theater_name> <show_name>: Mostrar info de un espectáculo.\n",
    "            - client check_ticket_status <client_name> <theater_name> <show_name>: Consultar estado de un ticket.\n",
    "            - q: Exit the simulation.\n",
    "        \"\"\")\n",
    "    "
   ]
  },
  {
   "cell_type": "code",
   "execution_count": null,
   "id": "6982d8bd-95ce-45cc-b0b5-1090aa325a3f",
   "metadata": {},
   "outputs": [],
   "source": []
  },
  {
   "cell_type": "code",
   "execution_count": null,
   "id": "cc14e563-4886-4c0a-9389-3c68c0d58962",
   "metadata": {},
   "outputs": [],
   "source": [
    "\n",
    "\n"
   ]
  },
  {
   "cell_type": "code",
   "execution_count": null,
   "id": "75cf47b4-2ea1-4623-be93-6d89bef63311",
   "metadata": {},
   "outputs": [],
   "source": []
  },
  {
   "cell_type": "code",
   "execution_count": null,
   "id": "713123f4-62fa-4559-83d4-9ffb3a72f3b9",
   "metadata": {},
   "outputs": [],
   "source": []
  }
 ],
 "metadata": {
  "kernelspec": {
   "display_name": "Python 3 (ipykernel)",
   "language": "python",
   "name": "python3"
  },
  "language_info": {
   "codemirror_mode": {
    "name": "ipython",
    "version": 3
   },
   "file_extension": ".py",
   "mimetype": "text/x-python",
   "name": "python",
   "nbconvert_exporter": "python",
   "pygments_lexer": "ipython3",
   "version": "3.12.4"
  }
 },
 "nbformat": 4,
 "nbformat_minor": 5
}
